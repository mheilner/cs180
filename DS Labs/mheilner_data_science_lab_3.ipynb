{
  "nbformat": 4,
  "nbformat_minor": 0,
  "metadata": {
    "colab": {
      "provenance": []
    },
    "kernelspec": {
      "name": "python3",
      "display_name": "Python 3"
    },
    "language_info": {
      "name": "python"
    }
  },
  "cells": [
    {
      "cell_type": "markdown",
      "source": [
        "<a href=\"https://colab.research.google.com/github/porterjenkins/CS180/blob/main/data_science_labs/data_science_lab_3.ipynb\" target=\"_parent\"><img src=\"https://colab.research.google.com/assets/colab-badge.svg\" alt=\"Open In Colab\"/></a><p><b>After clicking the \"Open in Colab\" link, copy the notebook to your own Google Drive before getting started, or it will not save your work</b></p>"
      ],
      "metadata": {
        "id": "IPir_6bCCFnZ"
      }
    },
    {
      "cell_type": "markdown",
      "source": [
        "# BYU CS 180 Lab 3"
      ],
      "metadata": {
        "id": "_slaQdUGCB0t"
      }
    },
    {
      "cell_type": "code",
      "source": [
        "import pandas as pd\n",
        "import numpy as np"
      ],
      "metadata": {
        "id": "fGjI7E--SCMm"
      },
      "execution_count": null,
      "outputs": []
    },
    {
      "cell_type": "markdown",
      "source": [
        "## Introduction:\n",
        "Welcome to your first pandas lab!\n",
        "\n",
        "Much of this lab has been adapted from this [link](https://acme.byu.edu/0000017c-ccff-da17-a5fd-cdff03a50000/acmefiles-09-pandas1-2021-pdf) pandas introduction lab from the ACME major. Feel free to read through it and use it as you complete this lab.\n",
        "\n",
        "Lab Objective:\n",
        "\n",
        "The goal of this lab is for you to become more comfortable in Python's pandas library. We'll introduce you to pandas data structures, syntax, and powerful capacity."
      ],
      "metadata": {
        "id": "cWl9h-eZRAzK"
      }
    },
    {
      "cell_type": "markdown",
      "source": [
        "### Important Hints\n",
        "Notice that most of the functions we learn about in this lab return new values. In order to save these values, we must store them.\n",
        "\n",
        "For example, df.drop(columns=['column1']) will drop the column1 from df, but we must call df = df.drop(columns=['column1']) to store the changed dataframe."
      ],
      "metadata": {
        "id": "KZeucaVmRqnw"
      }
    },
    {
      "cell_type": "markdown",
      "source": [
        "#### Series:\n",
        "The following cell creates a pandas series, which is essentially a list with an index for each entry in the list. The index is generally used as a label for the data."
      ],
      "metadata": {
        "id": "zJfyE75cR4LW"
      }
    },
    {
      "cell_type": "code",
      "source": [
        "math = pd.Series([80,96,78,59],['Mark','Barbara','Eleanor','David'])\n",
        "print(math)"
      ],
      "metadata": {
        "colab": {
          "base_uri": "https://localhost:8080/"
        },
        "id": "magqKCAfR97q",
        "outputId": "cc4bbe54-594e-4c28-ec7f-f98027f469cf"
      },
      "execution_count": null,
      "outputs": [
        {
          "output_type": "stream",
          "name": "stdout",
          "text": [
            "Mark       80\n",
            "Barbara    96\n",
            "Eleanor    78\n",
            "David      59\n",
            "dtype: int64\n"
          ]
        }
      ]
    },
    {
      "cell_type": "markdown",
      "source": [
        "Notice that each element in the above series 'math' is a number 1-100, and each of these elements are labeled with a name. The dtype (data type) of this series is an int64. Let's say these numbers represent each student's grade in their math class."
      ],
      "metadata": {
        "id": "TixHmeT3SKR5"
      }
    },
    {
      "cell_type": "markdown",
      "source": [
        "## Exercise 1: Pandas Series\n",
        "\n",
        "Create a pandas series of type int64 called 'english' storing our four student's english grades:\n",
        "\n",
        "Mark -> 90\n",
        "\n",
        "Barbara -> 87\n",
        "\n",
        "Eleanor -> 97\n",
        "\n",
        "David -> 65"
      ],
      "metadata": {
        "id": "tdeecXfuRjA6"
      }
    },
    {
      "cell_type": "code",
      "source": [
        "#Create a pandas series below:\n",
        "english = pd.Series([90,87,97,65],['Mark','Barbara','Eleanor','David'])\n",
        "print(english)"
      ],
      "metadata": {
        "id": "hH7YeTWPRios",
        "colab": {
          "base_uri": "https://localhost:8080/"
        },
        "outputId": "2cf78d00-f2c0-4790-d29e-2e7ef067e087"
      },
      "execution_count": null,
      "outputs": [
        {
          "output_type": "stream",
          "name": "stdout",
          "text": [
            "Mark       90\n",
            "Barbara    87\n",
            "Eleanor    97\n",
            "David      65\n",
            "dtype: int64\n"
          ]
        }
      ]
    },
    {
      "cell_type": "markdown",
      "source": [
        "**DataFrame**\n",
        "\n",
        "The next, and most important, data structure in pandas is the DataFrame. A DataFrame is a collection of multiple Series objects, and it is essentially a 2d array/list with each row labeled by an index, and each column labeled as a column.\n",
        "\n",
        "Below we initialize a DataFrame, 'simple_grades', using the 'math' and 'english' Series that we created above."
      ],
      "metadata": {
        "id": "coQOymwLSppB"
      }
    },
    {
      "cell_type": "code",
      "source": [
        "simple_grades = pd.DataFrame({\"Math\": math, \"English\": english})\n",
        "print(simple_grades)"
      ],
      "metadata": {
        "id": "OMRUvJvfSsrm",
        "colab": {
          "base_uri": "https://localhost:8080/"
        },
        "outputId": "c2f124e8-6b9e-4265-d6a1-71115c1b1873"
      },
      "execution_count": null,
      "outputs": [
        {
          "output_type": "stream",
          "name": "stdout",
          "text": [
            "         Math  English\n",
            "Mark       80       90\n",
            "Barbara    96       87\n",
            "Eleanor    78       97\n",
            "David      59       65\n"
          ]
        }
      ]
    },
    {
      "cell_type": "markdown",
      "source": [
        "Notice that we now have numbers that are labelled twice. Mark's English grade is an 90. Eleanor's Math grade is a 78.\n",
        "\n",
        "We can also initialize a DataFame using a NumPy array, since pandas is built on top of NumPy. We do that below and call it 'grades'."
      ],
      "metadata": {
        "id": "g4JeMTcITBBu"
      }
    },
    {
      "cell_type": "code",
      "source": [
        "data = np.array([[52.0, 73.0], [10.0, 39.0], [35.0, np.nan], [np.nan, 26.0],[np.nan,99.0],[81.0,68.0]])\n",
        "grades = pd.DataFrame(data, columns = ['Math', 'English'], index = ['Barbara','David','Eleanor','Greg','Lauren','Mark'])\n"
      ],
      "metadata": {
        "id": "mqgP1QA5TE4o"
      },
      "execution_count": null,
      "outputs": []
    },
    {
      "cell_type": "code",
      "source": [
        "# look at the column labels of grades\n",
        "print(grades.columns)\n",
        "# look at the index labels of grades\n",
        "print(grades.index)\n",
        "# look at the values (2d array) of grades\n",
        "print(grades.values)"
      ],
      "metadata": {
        "id": "LejlXPWRT1Wm",
        "colab": {
          "base_uri": "https://localhost:8080/"
        },
        "outputId": "2b8a5bd2-c37a-495f-f8df-f3bd3a9b35d8"
      },
      "execution_count": null,
      "outputs": [
        {
          "output_type": "stream",
          "name": "stdout",
          "text": [
            "Index(['Math', 'English'], dtype='object')\n",
            "Index(['Barbara', 'David', 'Eleanor', 'Greg', 'Lauren', 'Mark'], dtype='object')\n",
            "[[52. 73.]\n",
            " [10. 39.]\n",
            " [35. nan]\n",
            " [nan 26.]\n",
            " [nan 99.]\n",
            " [81. 68.]]\n"
          ]
        }
      ]
    },
    {
      "cell_type": "markdown",
      "source": [
        "## Exercise 2:\n",
        "To access data in a DataFrame, we use the .loc and the .iloc indexers.\n",
        "\n",
        "The .loc index selects rows and columns based on their labels\n"
      ],
      "metadata": {
        "id": "EZKzdeDXT5S9"
      }
    },
    {
      "cell_type": "code",
      "source": [
        "grades.loc[['David','Greg'],'Math']"
      ],
      "metadata": {
        "id": "dA0tJ_1oUNVv",
        "colab": {
          "base_uri": "https://localhost:8080/"
        },
        "outputId": "34b6ce32-2ed3-4cb7-a11e-a95ee73e2ef0"
      },
      "execution_count": null,
      "outputs": [
        {
          "output_type": "execute_result",
          "data": {
            "text/plain": [
              "David    10.0\n",
              "Greg      NaN\n",
              "Name: Math, dtype: float64"
            ]
          },
          "metadata": {},
          "execution_count": 7
        }
      ]
    },
    {
      "cell_type": "markdown",
      "source": [
        "Where the .iloc selects rows and columns based on their integer position"
      ],
      "metadata": {
        "id": "3ewyp61yUOy_"
      }
    },
    {
      "cell_type": "code",
      "source": [
        "grades.iloc[[1,3],0]"
      ],
      "metadata": {
        "id": "ISI8HCQXUSjq",
        "colab": {
          "base_uri": "https://localhost:8080/"
        },
        "outputId": "d06b096c-eeb5-43d2-e5ce-fae0664ed632"
      },
      "execution_count": null,
      "outputs": [
        {
          "output_type": "execute_result",
          "data": {
            "text/plain": [
              "David    10.0\n",
              "Greg      NaN\n",
              "Name: Math, dtype: float64"
            ]
          },
          "metadata": {},
          "execution_count": 8
        }
      ]
    },
    {
      "cell_type": "markdown",
      "source": [
        "Use `.loc` to print Eleanor and Mark's grades in both English and Math"
      ],
      "metadata": {
        "id": "FGjsR_nJVutE"
      }
    },
    {
      "cell_type": "code",
      "source": [
        "#Enter the code here to print both Eleanor and Marks Grades\n",
        "grades.loc[['Eleanor','Mark']]"
      ],
      "metadata": {
        "id": "bTPN4sENVt97",
        "colab": {
          "base_uri": "https://localhost:8080/",
          "height": 112
        },
        "outputId": "92a28ca7-d4a5-4a96-d2a7-8d6867fdeab6"
      },
      "execution_count": null,
      "outputs": [
        {
          "output_type": "execute_result",
          "data": {
            "text/plain": [
              "         Math  English\n",
              "Eleanor  35.0      NaN\n",
              "Mark     81.0     68.0"
            ],
            "text/html": [
              "\n",
              "  <div id=\"df-96602a0b-9cf3-4473-a7e2-db3c7ad2fd82\">\n",
              "    <div class=\"colab-df-container\">\n",
              "      <div>\n",
              "<style scoped>\n",
              "    .dataframe tbody tr th:only-of-type {\n",
              "        vertical-align: middle;\n",
              "    }\n",
              "\n",
              "    .dataframe tbody tr th {\n",
              "        vertical-align: top;\n",
              "    }\n",
              "\n",
              "    .dataframe thead th {\n",
              "        text-align: right;\n",
              "    }\n",
              "</style>\n",
              "<table border=\"1\" class=\"dataframe\">\n",
              "  <thead>\n",
              "    <tr style=\"text-align: right;\">\n",
              "      <th></th>\n",
              "      <th>Math</th>\n",
              "      <th>English</th>\n",
              "    </tr>\n",
              "  </thead>\n",
              "  <tbody>\n",
              "    <tr>\n",
              "      <th>Eleanor</th>\n",
              "      <td>35.0</td>\n",
              "      <td>NaN</td>\n",
              "    </tr>\n",
              "    <tr>\n",
              "      <th>Mark</th>\n",
              "      <td>81.0</td>\n",
              "      <td>68.0</td>\n",
              "    </tr>\n",
              "  </tbody>\n",
              "</table>\n",
              "</div>\n",
              "      <button class=\"colab-df-convert\" onclick=\"convertToInteractive('df-96602a0b-9cf3-4473-a7e2-db3c7ad2fd82')\"\n",
              "              title=\"Convert this dataframe to an interactive table.\"\n",
              "              style=\"display:none;\">\n",
              "        \n",
              "  <svg xmlns=\"http://www.w3.org/2000/svg\" height=\"24px\"viewBox=\"0 0 24 24\"\n",
              "       width=\"24px\">\n",
              "    <path d=\"M0 0h24v24H0V0z\" fill=\"none\"/>\n",
              "    <path d=\"M18.56 5.44l.94 2.06.94-2.06 2.06-.94-2.06-.94-.94-2.06-.94 2.06-2.06.94zm-11 1L8.5 8.5l.94-2.06 2.06-.94-2.06-.94L8.5 2.5l-.94 2.06-2.06.94zm10 10l.94 2.06.94-2.06 2.06-.94-2.06-.94-.94-2.06-.94 2.06-2.06.94z\"/><path d=\"M17.41 7.96l-1.37-1.37c-.4-.4-.92-.59-1.43-.59-.52 0-1.04.2-1.43.59L10.3 9.45l-7.72 7.72c-.78.78-.78 2.05 0 2.83L4 21.41c.39.39.9.59 1.41.59.51 0 1.02-.2 1.41-.59l7.78-7.78 2.81-2.81c.8-.78.8-2.07 0-2.86zM5.41 20L4 18.59l7.72-7.72 1.47 1.35L5.41 20z\"/>\n",
              "  </svg>\n",
              "      </button>\n",
              "      \n",
              "  <style>\n",
              "    .colab-df-container {\n",
              "      display:flex;\n",
              "      flex-wrap:wrap;\n",
              "      gap: 12px;\n",
              "    }\n",
              "\n",
              "    .colab-df-convert {\n",
              "      background-color: #E8F0FE;\n",
              "      border: none;\n",
              "      border-radius: 50%;\n",
              "      cursor: pointer;\n",
              "      display: none;\n",
              "      fill: #1967D2;\n",
              "      height: 32px;\n",
              "      padding: 0 0 0 0;\n",
              "      width: 32px;\n",
              "    }\n",
              "\n",
              "    .colab-df-convert:hover {\n",
              "      background-color: #E2EBFA;\n",
              "      box-shadow: 0px 1px 2px rgba(60, 64, 67, 0.3), 0px 1px 3px 1px rgba(60, 64, 67, 0.15);\n",
              "      fill: #174EA6;\n",
              "    }\n",
              "\n",
              "    [theme=dark] .colab-df-convert {\n",
              "      background-color: #3B4455;\n",
              "      fill: #D2E3FC;\n",
              "    }\n",
              "\n",
              "    [theme=dark] .colab-df-convert:hover {\n",
              "      background-color: #434B5C;\n",
              "      box-shadow: 0px 1px 3px 1px rgba(0, 0, 0, 0.15);\n",
              "      filter: drop-shadow(0px 1px 2px rgba(0, 0, 0, 0.3));\n",
              "      fill: #FFFFFF;\n",
              "    }\n",
              "  </style>\n",
              "\n",
              "      <script>\n",
              "        const buttonEl =\n",
              "          document.querySelector('#df-96602a0b-9cf3-4473-a7e2-db3c7ad2fd82 button.colab-df-convert');\n",
              "        buttonEl.style.display =\n",
              "          google.colab.kernel.accessAllowed ? 'block' : 'none';\n",
              "\n",
              "        async function convertToInteractive(key) {\n",
              "          const element = document.querySelector('#df-96602a0b-9cf3-4473-a7e2-db3c7ad2fd82');\n",
              "          const dataTable =\n",
              "            await google.colab.kernel.invokeFunction('convertToInteractive',\n",
              "                                                     [key], {});\n",
              "          if (!dataTable) return;\n",
              "\n",
              "          const docLinkHtml = 'Like what you see? Visit the ' +\n",
              "            '<a target=\"_blank\" href=https://colab.research.google.com/notebooks/data_table.ipynb>data table notebook</a>'\n",
              "            + ' to learn more about interactive tables.';\n",
              "          element.innerHTML = '';\n",
              "          dataTable['output_type'] = 'display_data';\n",
              "          await google.colab.output.renderOutput(dataTable, element);\n",
              "          const docLink = document.createElement('div');\n",
              "          docLink.innerHTML = docLinkHtml;\n",
              "          element.appendChild(docLink);\n",
              "        }\n",
              "      </script>\n",
              "    </div>\n",
              "  </div>\n",
              "  "
            ]
          },
          "metadata": {},
          "execution_count": 9
        }
      ]
    },
    {
      "cell_type": "markdown",
      "source": [
        "You can also access an entire column of a DataFrame by using simple square brackets and the name of the column."
      ],
      "metadata": {
        "id": "beRG_4bTVLg2"
      }
    },
    {
      "cell_type": "code",
      "source": [
        "grades['Math']"
      ],
      "metadata": {
        "id": "tIjjh5GEVKu1",
        "colab": {
          "base_uri": "https://localhost:8080/"
        },
        "outputId": "09efa37f-cb91-4b3f-9fc2-c6ccc7a718ae"
      },
      "execution_count": null,
      "outputs": [
        {
          "output_type": "execute_result",
          "data": {
            "text/plain": [
              "Barbara    52.0\n",
              "David      10.0\n",
              "Eleanor    35.0\n",
              "Greg        NaN\n",
              "Lauren      NaN\n",
              "Mark       81.0\n",
              "Name: Math, dtype: float64"
            ]
          },
          "metadata": {},
          "execution_count": 10
        }
      ]
    },
    {
      "cell_type": "markdown",
      "source": [
        "Using the same logic, we can also create a new column using either a numpy array, a list, or a single value. "
      ],
      "metadata": {
        "id": "jLDBC2SaVTel"
      }
    },
    {
      "cell_type": "code",
      "source": [
        "grades['History'] = np.random.randint(0,100,6)\n",
        "grades['History'] = 100"
      ],
      "metadata": {
        "id": "p6rtzhEmVTJO"
      },
      "execution_count": null,
      "outputs": []
    },
    {
      "cell_type": "markdown",
      "source": [
        "To view the beginning of a DataFrame, we can use .head(n). This makes it a lot easier to get an idea of what the data look like without printing the entire dataframe (especially when the df is huge!)."
      ],
      "metadata": {
        "id": "jpG-hw8cVavh"
      }
    },
    {
      "cell_type": "code",
      "source": [
        "grades.head(3)"
      ],
      "metadata": {
        "id": "LIkWW7sNVdUH",
        "colab": {
          "base_uri": "https://localhost:8080/",
          "height": 143
        },
        "outputId": "659fd4ba-37c6-4613-8aab-bc1cf97110d1"
      },
      "execution_count": null,
      "outputs": [
        {
          "output_type": "execute_result",
          "data": {
            "text/plain": [
              "         Math  English  History\n",
              "Barbara  52.0     73.0      100\n",
              "David    10.0     39.0      100\n",
              "Eleanor  35.0      NaN      100"
            ],
            "text/html": [
              "\n",
              "  <div id=\"df-f191f63a-ae3f-4cb6-94e3-78243d24cbf3\">\n",
              "    <div class=\"colab-df-container\">\n",
              "      <div>\n",
              "<style scoped>\n",
              "    .dataframe tbody tr th:only-of-type {\n",
              "        vertical-align: middle;\n",
              "    }\n",
              "\n",
              "    .dataframe tbody tr th {\n",
              "        vertical-align: top;\n",
              "    }\n",
              "\n",
              "    .dataframe thead th {\n",
              "        text-align: right;\n",
              "    }\n",
              "</style>\n",
              "<table border=\"1\" class=\"dataframe\">\n",
              "  <thead>\n",
              "    <tr style=\"text-align: right;\">\n",
              "      <th></th>\n",
              "      <th>Math</th>\n",
              "      <th>English</th>\n",
              "      <th>History</th>\n",
              "    </tr>\n",
              "  </thead>\n",
              "  <tbody>\n",
              "    <tr>\n",
              "      <th>Barbara</th>\n",
              "      <td>52.0</td>\n",
              "      <td>73.0</td>\n",
              "      <td>100</td>\n",
              "    </tr>\n",
              "    <tr>\n",
              "      <th>David</th>\n",
              "      <td>10.0</td>\n",
              "      <td>39.0</td>\n",
              "      <td>100</td>\n",
              "    </tr>\n",
              "    <tr>\n",
              "      <th>Eleanor</th>\n",
              "      <td>35.0</td>\n",
              "      <td>NaN</td>\n",
              "      <td>100</td>\n",
              "    </tr>\n",
              "  </tbody>\n",
              "</table>\n",
              "</div>\n",
              "      <button class=\"colab-df-convert\" onclick=\"convertToInteractive('df-f191f63a-ae3f-4cb6-94e3-78243d24cbf3')\"\n",
              "              title=\"Convert this dataframe to an interactive table.\"\n",
              "              style=\"display:none;\">\n",
              "        \n",
              "  <svg xmlns=\"http://www.w3.org/2000/svg\" height=\"24px\"viewBox=\"0 0 24 24\"\n",
              "       width=\"24px\">\n",
              "    <path d=\"M0 0h24v24H0V0z\" fill=\"none\"/>\n",
              "    <path d=\"M18.56 5.44l.94 2.06.94-2.06 2.06-.94-2.06-.94-.94-2.06-.94 2.06-2.06.94zm-11 1L8.5 8.5l.94-2.06 2.06-.94-2.06-.94L8.5 2.5l-.94 2.06-2.06.94zm10 10l.94 2.06.94-2.06 2.06-.94-2.06-.94-.94-2.06-.94 2.06-2.06.94z\"/><path d=\"M17.41 7.96l-1.37-1.37c-.4-.4-.92-.59-1.43-.59-.52 0-1.04.2-1.43.59L10.3 9.45l-7.72 7.72c-.78.78-.78 2.05 0 2.83L4 21.41c.39.39.9.59 1.41.59.51 0 1.02-.2 1.41-.59l7.78-7.78 2.81-2.81c.8-.78.8-2.07 0-2.86zM5.41 20L4 18.59l7.72-7.72 1.47 1.35L5.41 20z\"/>\n",
              "  </svg>\n",
              "      </button>\n",
              "      \n",
              "  <style>\n",
              "    .colab-df-container {\n",
              "      display:flex;\n",
              "      flex-wrap:wrap;\n",
              "      gap: 12px;\n",
              "    }\n",
              "\n",
              "    .colab-df-convert {\n",
              "      background-color: #E8F0FE;\n",
              "      border: none;\n",
              "      border-radius: 50%;\n",
              "      cursor: pointer;\n",
              "      display: none;\n",
              "      fill: #1967D2;\n",
              "      height: 32px;\n",
              "      padding: 0 0 0 0;\n",
              "      width: 32px;\n",
              "    }\n",
              "\n",
              "    .colab-df-convert:hover {\n",
              "      background-color: #E2EBFA;\n",
              "      box-shadow: 0px 1px 2px rgba(60, 64, 67, 0.3), 0px 1px 3px 1px rgba(60, 64, 67, 0.15);\n",
              "      fill: #174EA6;\n",
              "    }\n",
              "\n",
              "    [theme=dark] .colab-df-convert {\n",
              "      background-color: #3B4455;\n",
              "      fill: #D2E3FC;\n",
              "    }\n",
              "\n",
              "    [theme=dark] .colab-df-convert:hover {\n",
              "      background-color: #434B5C;\n",
              "      box-shadow: 0px 1px 3px 1px rgba(0, 0, 0, 0.15);\n",
              "      filter: drop-shadow(0px 1px 2px rgba(0, 0, 0, 0.3));\n",
              "      fill: #FFFFFF;\n",
              "    }\n",
              "  </style>\n",
              "\n",
              "      <script>\n",
              "        const buttonEl =\n",
              "          document.querySelector('#df-f191f63a-ae3f-4cb6-94e3-78243d24cbf3 button.colab-df-convert');\n",
              "        buttonEl.style.display =\n",
              "          google.colab.kernel.accessAllowed ? 'block' : 'none';\n",
              "\n",
              "        async function convertToInteractive(key) {\n",
              "          const element = document.querySelector('#df-f191f63a-ae3f-4cb6-94e3-78243d24cbf3');\n",
              "          const dataTable =\n",
              "            await google.colab.kernel.invokeFunction('convertToInteractive',\n",
              "                                                     [key], {});\n",
              "          if (!dataTable) return;\n",
              "\n",
              "          const docLinkHtml = 'Like what you see? Visit the ' +\n",
              "            '<a target=\"_blank\" href=https://colab.research.google.com/notebooks/data_table.ipynb>data table notebook</a>'\n",
              "            + ' to learn more about interactive tables.';\n",
              "          element.innerHTML = '';\n",
              "          dataTable['output_type'] = 'display_data';\n",
              "          await google.colab.output.renderOutput(dataTable, element);\n",
              "          const docLink = document.createElement('div');\n",
              "          docLink.innerHTML = docLinkHtml;\n",
              "          element.appendChild(docLink);\n",
              "        }\n",
              "      </script>\n",
              "    </div>\n",
              "  </div>\n",
              "  "
            ]
          },
          "metadata": {},
          "execution_count": 12
        }
      ]
    },
    {
      "cell_type": "markdown",
      "source": [
        "You can also use .reindex to change the order of either the rows or columns, and .sort_values to sort the DataFrame by a specified column value."
      ],
      "metadata": {
        "id": "IRol43jLVkSi"
      }
    },
    {
      "cell_type": "code",
      "source": [
        "grades.reindex(columns=['English','Math','History'])\n",
        "grades.sort_values('Math',ascending=False)"
      ],
      "metadata": {
        "id": "y4abXuEQVfSK",
        "colab": {
          "base_uri": "https://localhost:8080/",
          "height": 237
        },
        "outputId": "ba8c9175-f3c9-4518-ddbe-e00a6f724deb"
      },
      "execution_count": null,
      "outputs": [
        {
          "output_type": "execute_result",
          "data": {
            "text/plain": [
              "         Math  English  History\n",
              "Mark     81.0     68.0      100\n",
              "Barbara  52.0     73.0      100\n",
              "Eleanor  35.0      NaN      100\n",
              "David    10.0     39.0      100\n",
              "Greg      NaN     26.0      100\n",
              "Lauren    NaN     99.0      100"
            ],
            "text/html": [
              "\n",
              "  <div id=\"df-0d6bd7a1-f7df-43bb-b886-ef7c28f47bdd\">\n",
              "    <div class=\"colab-df-container\">\n",
              "      <div>\n",
              "<style scoped>\n",
              "    .dataframe tbody tr th:only-of-type {\n",
              "        vertical-align: middle;\n",
              "    }\n",
              "\n",
              "    .dataframe tbody tr th {\n",
              "        vertical-align: top;\n",
              "    }\n",
              "\n",
              "    .dataframe thead th {\n",
              "        text-align: right;\n",
              "    }\n",
              "</style>\n",
              "<table border=\"1\" class=\"dataframe\">\n",
              "  <thead>\n",
              "    <tr style=\"text-align: right;\">\n",
              "      <th></th>\n",
              "      <th>Math</th>\n",
              "      <th>English</th>\n",
              "      <th>History</th>\n",
              "    </tr>\n",
              "  </thead>\n",
              "  <tbody>\n",
              "    <tr>\n",
              "      <th>Mark</th>\n",
              "      <td>81.0</td>\n",
              "      <td>68.0</td>\n",
              "      <td>100</td>\n",
              "    </tr>\n",
              "    <tr>\n",
              "      <th>Barbara</th>\n",
              "      <td>52.0</td>\n",
              "      <td>73.0</td>\n",
              "      <td>100</td>\n",
              "    </tr>\n",
              "    <tr>\n",
              "      <th>Eleanor</th>\n",
              "      <td>35.0</td>\n",
              "      <td>NaN</td>\n",
              "      <td>100</td>\n",
              "    </tr>\n",
              "    <tr>\n",
              "      <th>David</th>\n",
              "      <td>10.0</td>\n",
              "      <td>39.0</td>\n",
              "      <td>100</td>\n",
              "    </tr>\n",
              "    <tr>\n",
              "      <th>Greg</th>\n",
              "      <td>NaN</td>\n",
              "      <td>26.0</td>\n",
              "      <td>100</td>\n",
              "    </tr>\n",
              "    <tr>\n",
              "      <th>Lauren</th>\n",
              "      <td>NaN</td>\n",
              "      <td>99.0</td>\n",
              "      <td>100</td>\n",
              "    </tr>\n",
              "  </tbody>\n",
              "</table>\n",
              "</div>\n",
              "      <button class=\"colab-df-convert\" onclick=\"convertToInteractive('df-0d6bd7a1-f7df-43bb-b886-ef7c28f47bdd')\"\n",
              "              title=\"Convert this dataframe to an interactive table.\"\n",
              "              style=\"display:none;\">\n",
              "        \n",
              "  <svg xmlns=\"http://www.w3.org/2000/svg\" height=\"24px\"viewBox=\"0 0 24 24\"\n",
              "       width=\"24px\">\n",
              "    <path d=\"M0 0h24v24H0V0z\" fill=\"none\"/>\n",
              "    <path d=\"M18.56 5.44l.94 2.06.94-2.06 2.06-.94-2.06-.94-.94-2.06-.94 2.06-2.06.94zm-11 1L8.5 8.5l.94-2.06 2.06-.94-2.06-.94L8.5 2.5l-.94 2.06-2.06.94zm10 10l.94 2.06.94-2.06 2.06-.94-2.06-.94-.94-2.06-.94 2.06-2.06.94z\"/><path d=\"M17.41 7.96l-1.37-1.37c-.4-.4-.92-.59-1.43-.59-.52 0-1.04.2-1.43.59L10.3 9.45l-7.72 7.72c-.78.78-.78 2.05 0 2.83L4 21.41c.39.39.9.59 1.41.59.51 0 1.02-.2 1.41-.59l7.78-7.78 2.81-2.81c.8-.78.8-2.07 0-2.86zM5.41 20L4 18.59l7.72-7.72 1.47 1.35L5.41 20z\"/>\n",
              "  </svg>\n",
              "      </button>\n",
              "      \n",
              "  <style>\n",
              "    .colab-df-container {\n",
              "      display:flex;\n",
              "      flex-wrap:wrap;\n",
              "      gap: 12px;\n",
              "    }\n",
              "\n",
              "    .colab-df-convert {\n",
              "      background-color: #E8F0FE;\n",
              "      border: none;\n",
              "      border-radius: 50%;\n",
              "      cursor: pointer;\n",
              "      display: none;\n",
              "      fill: #1967D2;\n",
              "      height: 32px;\n",
              "      padding: 0 0 0 0;\n",
              "      width: 32px;\n",
              "    }\n",
              "\n",
              "    .colab-df-convert:hover {\n",
              "      background-color: #E2EBFA;\n",
              "      box-shadow: 0px 1px 2px rgba(60, 64, 67, 0.3), 0px 1px 3px 1px rgba(60, 64, 67, 0.15);\n",
              "      fill: #174EA6;\n",
              "    }\n",
              "\n",
              "    [theme=dark] .colab-df-convert {\n",
              "      background-color: #3B4455;\n",
              "      fill: #D2E3FC;\n",
              "    }\n",
              "\n",
              "    [theme=dark] .colab-df-convert:hover {\n",
              "      background-color: #434B5C;\n",
              "      box-shadow: 0px 1px 3px 1px rgba(0, 0, 0, 0.15);\n",
              "      filter: drop-shadow(0px 1px 2px rgba(0, 0, 0, 0.3));\n",
              "      fill: #FFFFFF;\n",
              "    }\n",
              "  </style>\n",
              "\n",
              "      <script>\n",
              "        const buttonEl =\n",
              "          document.querySelector('#df-0d6bd7a1-f7df-43bb-b886-ef7c28f47bdd button.colab-df-convert');\n",
              "        buttonEl.style.display =\n",
              "          google.colab.kernel.accessAllowed ? 'block' : 'none';\n",
              "\n",
              "        async function convertToInteractive(key) {\n",
              "          const element = document.querySelector('#df-0d6bd7a1-f7df-43bb-b886-ef7c28f47bdd');\n",
              "          const dataTable =\n",
              "            await google.colab.kernel.invokeFunction('convertToInteractive',\n",
              "                                                     [key], {});\n",
              "          if (!dataTable) return;\n",
              "\n",
              "          const docLinkHtml = 'Like what you see? Visit the ' +\n",
              "            '<a target=\"_blank\" href=https://colab.research.google.com/notebooks/data_table.ipynb>data table notebook</a>'\n",
              "            + ' to learn more about interactive tables.';\n",
              "          element.innerHTML = '';\n",
              "          dataTable['output_type'] = 'display_data';\n",
              "          await google.colab.output.renderOutput(dataTable, element);\n",
              "          const docLink = document.createElement('div');\n",
              "          docLink.innerHTML = docLinkHtml;\n",
              "          element.appendChild(docLink);\n",
              "        }\n",
              "      </script>\n",
              "    </div>\n",
              "  </div>\n",
              "  "
            ]
          },
          "metadata": {},
          "execution_count": 13
        }
      ]
    },
    {
      "cell_type": "markdown",
      "source": [
        "You can also drop columns from a dataframe by using df.drop(columns=[])"
      ],
      "metadata": {
        "id": "FakTfRwBWBDv"
      }
    },
    {
      "cell_type": "code",
      "source": [
        "grades.drop(columns=['Math'])"
      ],
      "metadata": {
        "id": "QzUm52EPWFO9",
        "colab": {
          "base_uri": "https://localhost:8080/",
          "height": 237
        },
        "outputId": "873f26c1-60db-4e62-88bf-21d326600d1c"
      },
      "execution_count": null,
      "outputs": [
        {
          "output_type": "execute_result",
          "data": {
            "text/plain": [
              "         English  History\n",
              "Barbara     73.0      100\n",
              "David       39.0      100\n",
              "Eleanor      NaN      100\n",
              "Greg        26.0      100\n",
              "Lauren      99.0      100\n",
              "Mark        68.0      100"
            ],
            "text/html": [
              "\n",
              "  <div id=\"df-85363a48-7766-47a6-89b9-c807c86c8464\">\n",
              "    <div class=\"colab-df-container\">\n",
              "      <div>\n",
              "<style scoped>\n",
              "    .dataframe tbody tr th:only-of-type {\n",
              "        vertical-align: middle;\n",
              "    }\n",
              "\n",
              "    .dataframe tbody tr th {\n",
              "        vertical-align: top;\n",
              "    }\n",
              "\n",
              "    .dataframe thead th {\n",
              "        text-align: right;\n",
              "    }\n",
              "</style>\n",
              "<table border=\"1\" class=\"dataframe\">\n",
              "  <thead>\n",
              "    <tr style=\"text-align: right;\">\n",
              "      <th></th>\n",
              "      <th>English</th>\n",
              "      <th>History</th>\n",
              "    </tr>\n",
              "  </thead>\n",
              "  <tbody>\n",
              "    <tr>\n",
              "      <th>Barbara</th>\n",
              "      <td>73.0</td>\n",
              "      <td>100</td>\n",
              "    </tr>\n",
              "    <tr>\n",
              "      <th>David</th>\n",
              "      <td>39.0</td>\n",
              "      <td>100</td>\n",
              "    </tr>\n",
              "    <tr>\n",
              "      <th>Eleanor</th>\n",
              "      <td>NaN</td>\n",
              "      <td>100</td>\n",
              "    </tr>\n",
              "    <tr>\n",
              "      <th>Greg</th>\n",
              "      <td>26.0</td>\n",
              "      <td>100</td>\n",
              "    </tr>\n",
              "    <tr>\n",
              "      <th>Lauren</th>\n",
              "      <td>99.0</td>\n",
              "      <td>100</td>\n",
              "    </tr>\n",
              "    <tr>\n",
              "      <th>Mark</th>\n",
              "      <td>68.0</td>\n",
              "      <td>100</td>\n",
              "    </tr>\n",
              "  </tbody>\n",
              "</table>\n",
              "</div>\n",
              "      <button class=\"colab-df-convert\" onclick=\"convertToInteractive('df-85363a48-7766-47a6-89b9-c807c86c8464')\"\n",
              "              title=\"Convert this dataframe to an interactive table.\"\n",
              "              style=\"display:none;\">\n",
              "        \n",
              "  <svg xmlns=\"http://www.w3.org/2000/svg\" height=\"24px\"viewBox=\"0 0 24 24\"\n",
              "       width=\"24px\">\n",
              "    <path d=\"M0 0h24v24H0V0z\" fill=\"none\"/>\n",
              "    <path d=\"M18.56 5.44l.94 2.06.94-2.06 2.06-.94-2.06-.94-.94-2.06-.94 2.06-2.06.94zm-11 1L8.5 8.5l.94-2.06 2.06-.94-2.06-.94L8.5 2.5l-.94 2.06-2.06.94zm10 10l.94 2.06.94-2.06 2.06-.94-2.06-.94-.94-2.06-.94 2.06-2.06.94z\"/><path d=\"M17.41 7.96l-1.37-1.37c-.4-.4-.92-.59-1.43-.59-.52 0-1.04.2-1.43.59L10.3 9.45l-7.72 7.72c-.78.78-.78 2.05 0 2.83L4 21.41c.39.39.9.59 1.41.59.51 0 1.02-.2 1.41-.59l7.78-7.78 2.81-2.81c.8-.78.8-2.07 0-2.86zM5.41 20L4 18.59l7.72-7.72 1.47 1.35L5.41 20z\"/>\n",
              "  </svg>\n",
              "      </button>\n",
              "      \n",
              "  <style>\n",
              "    .colab-df-container {\n",
              "      display:flex;\n",
              "      flex-wrap:wrap;\n",
              "      gap: 12px;\n",
              "    }\n",
              "\n",
              "    .colab-df-convert {\n",
              "      background-color: #E8F0FE;\n",
              "      border: none;\n",
              "      border-radius: 50%;\n",
              "      cursor: pointer;\n",
              "      display: none;\n",
              "      fill: #1967D2;\n",
              "      height: 32px;\n",
              "      padding: 0 0 0 0;\n",
              "      width: 32px;\n",
              "    }\n",
              "\n",
              "    .colab-df-convert:hover {\n",
              "      background-color: #E2EBFA;\n",
              "      box-shadow: 0px 1px 2px rgba(60, 64, 67, 0.3), 0px 1px 3px 1px rgba(60, 64, 67, 0.15);\n",
              "      fill: #174EA6;\n",
              "    }\n",
              "\n",
              "    [theme=dark] .colab-df-convert {\n",
              "      background-color: #3B4455;\n",
              "      fill: #D2E3FC;\n",
              "    }\n",
              "\n",
              "    [theme=dark] .colab-df-convert:hover {\n",
              "      background-color: #434B5C;\n",
              "      box-shadow: 0px 1px 3px 1px rgba(0, 0, 0, 0.15);\n",
              "      filter: drop-shadow(0px 1px 2px rgba(0, 0, 0, 0.3));\n",
              "      fill: #FFFFFF;\n",
              "    }\n",
              "  </style>\n",
              "\n",
              "      <script>\n",
              "        const buttonEl =\n",
              "          document.querySelector('#df-85363a48-7766-47a6-89b9-c807c86c8464 button.colab-df-convert');\n",
              "        buttonEl.style.display =\n",
              "          google.colab.kernel.accessAllowed ? 'block' : 'none';\n",
              "\n",
              "        async function convertToInteractive(key) {\n",
              "          const element = document.querySelector('#df-85363a48-7766-47a6-89b9-c807c86c8464');\n",
              "          const dataTable =\n",
              "            await google.colab.kernel.invokeFunction('convertToInteractive',\n",
              "                                                     [key], {});\n",
              "          if (!dataTable) return;\n",
              "\n",
              "          const docLinkHtml = 'Like what you see? Visit the ' +\n",
              "            '<a target=\"_blank\" href=https://colab.research.google.com/notebooks/data_table.ipynb>data table notebook</a>'\n",
              "            + ' to learn more about interactive tables.';\n",
              "          element.innerHTML = '';\n",
              "          dataTable['output_type'] = 'display_data';\n",
              "          await google.colab.output.renderOutput(dataTable, element);\n",
              "          const docLink = document.createElement('div');\n",
              "          docLink.innerHTML = docLinkHtml;\n",
              "          element.appendChild(docLink);\n",
              "        }\n",
              "      </script>\n",
              "    </div>\n",
              "  </div>\n",
              "  "
            ]
          },
          "metadata": {},
          "execution_count": 14
        }
      ]
    },
    {
      "cell_type": "markdown",
      "source": [
        "## Exercise 3: Girlfriend Vs. Fortnite\n",
        "The costs.csv downloaded earlier contains an estimate of my costs over the past few semesters. You get to help me!\n",
        "* Read in the costs.csv file\n",
        "* Add a column called 'girlfriend' with all values set to 500\n",
        "* Reindex the columns such that the amount spent on rent is the first column and the other columns stay in the same order\n",
        "* Sort the DataFrame in descending order based on how much I spent on fortnite_skins\n",
        "* Reset all the values in the rent column to 1000"
      ],
      "metadata": {
        "id": "dB2YOQN1WO_C"
      }
    },
    {
      "cell_type": "code",
      "source": [
        "#Girl Friend Data\n",
        "!curl -o costs.csv https://raw.githubusercontent.com/wingated/cs180_labs/main/costs.csv"
      ],
      "metadata": {
        "id": "SdJbrjG-Wmbl",
        "colab": {
          "base_uri": "https://localhost:8080/"
        },
        "outputId": "fc3d4c3f-8c86-487b-96a0-f302c229f774"
      },
      "execution_count": null,
      "outputs": [
        {
          "output_type": "stream",
          "name": "stdout",
          "text": [
            "  % Total    % Received % Xferd  Average Speed   Time    Time     Time  Current\n",
            "                                 Dload  Upload   Total   Spent    Left  Speed\n",
            "\r  0     0    0     0    0     0      0      0 --:--:-- --:--:-- --:--:--     0\r100   125  100   125    0     0    811      0 --:--:-- --:--:-- --:--:--   811\n"
          ]
        }
      ]
    },
    {
      "cell_type": "code",
      "source": [
        "#Enter the code for the question above here:\n",
        "cost_df = pd.read_csv('costs.csv')\n",
        "cost_df['girlfriend'] = [500,500,500,500,500,500]\n",
        "cost_df = cost_df.reindex(columns=['rent','books','food','fortnite_skins','girlfriend'])\n",
        "cost_df = cost_df.sort_values('fortnite_skins', ascending=False)\n",
        "cost_df = cost_df.assign(rent=1000)\n",
        "print(cost_df)"
      ],
      "metadata": {
        "id": "Xx3i9MVhWdeE",
        "colab": {
          "base_uri": "https://localhost:8080/"
        },
        "outputId": "3dde7515-b76f-40ac-e984-b80cee284e54"
      },
      "execution_count": null,
      "outputs": [
        {
          "output_type": "stream",
          "name": "stdout",
          "text": [
            "   rent  books  food  fortnite_skins  girlfriend\n",
            "2  1000    300   775              40         500\n",
            "3  1000    312   750              18         500\n",
            "4  1000    330   712              16         500\n",
            "0  1000    385   800              15         500\n",
            "1  1000    280   700              10         500\n",
            "5  1000    120   900               5         500\n"
          ]
        }
      ]
    },
    {
      "cell_type": "markdown",
      "source": [
        "## Exercise 4: Means on Columns\n",
        "Calculate the mean cost of each column in the costs DataFrame in the cell below. (Hint: use the DataFrame.mean() function!)"
      ],
      "metadata": {
        "id": "s7GyXbDOWxW_"
      }
    },
    {
      "cell_type": "code",
      "source": [
        "#Mean cost of each column\n",
        "cost_df.mean(axis=0)"
      ],
      "metadata": {
        "id": "aQ2fLWq9W5v0",
        "colab": {
          "base_uri": "https://localhost:8080/"
        },
        "outputId": "a197412a-b7a9-4ffe-af4c-b865dd952811"
      },
      "execution_count": null,
      "outputs": [
        {
          "output_type": "execute_result",
          "data": {
            "text/plain": [
              "rent              1000.000000\n",
              "books              287.833333\n",
              "food               772.833333\n",
              "fortnite_skins      17.333333\n",
              "girlfriend         500.000000\n",
              "dtype: float64"
            ]
          },
          "metadata": {},
          "execution_count": 26
        }
      ]
    },
    {
      "cell_type": "markdown",
      "source": [],
      "metadata": {
        "id": "dRzzQe0fXGBI"
      }
    },
    {
      "cell_type": "markdown",
      "source": [
        "## Exercise 5: Supplements\n",
        "\n",
        "Now we will return to the grades DataFrame that we created earlier.\n",
        "\n",
        "Dealing with missing data is a difficult topic in data science. The pandas default for missing values is NaN. These can be difficult to deal with because any operation (addition, multiplication, etc) involving an NaN value will always result in an NaN, so finding the mean of a column or adding up all the rows will be meaningless.\n",
        "\n",
        "What do we do with NaN values? The answer is always: it depends, but we should also ask: why do we have missing values? It could be that some people only filled out half the survey, it could be that the data should read 0.0 but it wasn't filled out. It could mean (in our example) that the student isn't enrolled in that class. It could be many reasons, and we should always figure them out first!\n",
        "\n",
        "In pandas we can do a couple things with NaN values.\n",
        "\n",
        "To drop all rows containing NaN values, we can simply call DataFrame.dropna()\n",
        "\n",
        "\n",
        "Or we could fill the NaN values with a specified value, like 0.0:"
      ],
      "metadata": {
        "id": "staKCHIDW8f5"
      }
    },
    {
      "cell_type": "code",
      "source": [
        "grades.fillna(0.0)"
      ],
      "metadata": {
        "id": "6JfHZN_qXRyI",
        "colab": {
          "base_uri": "https://localhost:8080/",
          "height": 237
        },
        "outputId": "228836b8-dea8-492b-88ba-bbeeea274104"
      },
      "execution_count": null,
      "outputs": [
        {
          "output_type": "execute_result",
          "data": {
            "text/plain": [
              "         Math  English  History\n",
              "Barbara  52.0     73.0      100\n",
              "David    10.0     39.0      100\n",
              "Eleanor  35.0      0.0      100\n",
              "Greg      0.0     26.0      100\n",
              "Lauren    0.0     99.0      100\n",
              "Mark     81.0     68.0      100"
            ],
            "text/html": [
              "\n",
              "  <div id=\"df-da1243a5-aea8-48d1-8b00-2b208e778abf\">\n",
              "    <div class=\"colab-df-container\">\n",
              "      <div>\n",
              "<style scoped>\n",
              "    .dataframe tbody tr th:only-of-type {\n",
              "        vertical-align: middle;\n",
              "    }\n",
              "\n",
              "    .dataframe tbody tr th {\n",
              "        vertical-align: top;\n",
              "    }\n",
              "\n",
              "    .dataframe thead th {\n",
              "        text-align: right;\n",
              "    }\n",
              "</style>\n",
              "<table border=\"1\" class=\"dataframe\">\n",
              "  <thead>\n",
              "    <tr style=\"text-align: right;\">\n",
              "      <th></th>\n",
              "      <th>Math</th>\n",
              "      <th>English</th>\n",
              "      <th>History</th>\n",
              "    </tr>\n",
              "  </thead>\n",
              "  <tbody>\n",
              "    <tr>\n",
              "      <th>Barbara</th>\n",
              "      <td>52.0</td>\n",
              "      <td>73.0</td>\n",
              "      <td>100</td>\n",
              "    </tr>\n",
              "    <tr>\n",
              "      <th>David</th>\n",
              "      <td>10.0</td>\n",
              "      <td>39.0</td>\n",
              "      <td>100</td>\n",
              "    </tr>\n",
              "    <tr>\n",
              "      <th>Eleanor</th>\n",
              "      <td>35.0</td>\n",
              "      <td>0.0</td>\n",
              "      <td>100</td>\n",
              "    </tr>\n",
              "    <tr>\n",
              "      <th>Greg</th>\n",
              "      <td>0.0</td>\n",
              "      <td>26.0</td>\n",
              "      <td>100</td>\n",
              "    </tr>\n",
              "    <tr>\n",
              "      <th>Lauren</th>\n",
              "      <td>0.0</td>\n",
              "      <td>99.0</td>\n",
              "      <td>100</td>\n",
              "    </tr>\n",
              "    <tr>\n",
              "      <th>Mark</th>\n",
              "      <td>81.0</td>\n",
              "      <td>68.0</td>\n",
              "      <td>100</td>\n",
              "    </tr>\n",
              "  </tbody>\n",
              "</table>\n",
              "</div>\n",
              "      <button class=\"colab-df-convert\" onclick=\"convertToInteractive('df-da1243a5-aea8-48d1-8b00-2b208e778abf')\"\n",
              "              title=\"Convert this dataframe to an interactive table.\"\n",
              "              style=\"display:none;\">\n",
              "        \n",
              "  <svg xmlns=\"http://www.w3.org/2000/svg\" height=\"24px\"viewBox=\"0 0 24 24\"\n",
              "       width=\"24px\">\n",
              "    <path d=\"M0 0h24v24H0V0z\" fill=\"none\"/>\n",
              "    <path d=\"M18.56 5.44l.94 2.06.94-2.06 2.06-.94-2.06-.94-.94-2.06-.94 2.06-2.06.94zm-11 1L8.5 8.5l.94-2.06 2.06-.94-2.06-.94L8.5 2.5l-.94 2.06-2.06.94zm10 10l.94 2.06.94-2.06 2.06-.94-2.06-.94-.94-2.06-.94 2.06-2.06.94z\"/><path d=\"M17.41 7.96l-1.37-1.37c-.4-.4-.92-.59-1.43-.59-.52 0-1.04.2-1.43.59L10.3 9.45l-7.72 7.72c-.78.78-.78 2.05 0 2.83L4 21.41c.39.39.9.59 1.41.59.51 0 1.02-.2 1.41-.59l7.78-7.78 2.81-2.81c.8-.78.8-2.07 0-2.86zM5.41 20L4 18.59l7.72-7.72 1.47 1.35L5.41 20z\"/>\n",
              "  </svg>\n",
              "      </button>\n",
              "      \n",
              "  <style>\n",
              "    .colab-df-container {\n",
              "      display:flex;\n",
              "      flex-wrap:wrap;\n",
              "      gap: 12px;\n",
              "    }\n",
              "\n",
              "    .colab-df-convert {\n",
              "      background-color: #E8F0FE;\n",
              "      border: none;\n",
              "      border-radius: 50%;\n",
              "      cursor: pointer;\n",
              "      display: none;\n",
              "      fill: #1967D2;\n",
              "      height: 32px;\n",
              "      padding: 0 0 0 0;\n",
              "      width: 32px;\n",
              "    }\n",
              "\n",
              "    .colab-df-convert:hover {\n",
              "      background-color: #E2EBFA;\n",
              "      box-shadow: 0px 1px 2px rgba(60, 64, 67, 0.3), 0px 1px 3px 1px rgba(60, 64, 67, 0.15);\n",
              "      fill: #174EA6;\n",
              "    }\n",
              "\n",
              "    [theme=dark] .colab-df-convert {\n",
              "      background-color: #3B4455;\n",
              "      fill: #D2E3FC;\n",
              "    }\n",
              "\n",
              "    [theme=dark] .colab-df-convert:hover {\n",
              "      background-color: #434B5C;\n",
              "      box-shadow: 0px 1px 3px 1px rgba(0, 0, 0, 0.15);\n",
              "      filter: drop-shadow(0px 1px 2px rgba(0, 0, 0, 0.3));\n",
              "      fill: #FFFFFF;\n",
              "    }\n",
              "  </style>\n",
              "\n",
              "      <script>\n",
              "        const buttonEl =\n",
              "          document.querySelector('#df-da1243a5-aea8-48d1-8b00-2b208e778abf button.colab-df-convert');\n",
              "        buttonEl.style.display =\n",
              "          google.colab.kernel.accessAllowed ? 'block' : 'none';\n",
              "\n",
              "        async function convertToInteractive(key) {\n",
              "          const element = document.querySelector('#df-da1243a5-aea8-48d1-8b00-2b208e778abf');\n",
              "          const dataTable =\n",
              "            await google.colab.kernel.invokeFunction('convertToInteractive',\n",
              "                                                     [key], {});\n",
              "          if (!dataTable) return;\n",
              "\n",
              "          const docLinkHtml = 'Like what you see? Visit the ' +\n",
              "            '<a target=\"_blank\" href=https://colab.research.google.com/notebooks/data_table.ipynb>data table notebook</a>'\n",
              "            + ' to learn more about interactive tables.';\n",
              "          element.innerHTML = '';\n",
              "          dataTable['output_type'] = 'display_data';\n",
              "          await google.colab.output.renderOutput(dataTable, element);\n",
              "          const docLink = document.createElement('div');\n",
              "          docLink.innerHTML = docLinkHtml;\n",
              "          element.appendChild(docLink);\n",
              "        }\n",
              "      </script>\n",
              "    </div>\n",
              "  </div>\n",
              "  "
            ]
          },
          "metadata": {},
          "execution_count": 27
        }
      ]
    },
    {
      "cell_type": "markdown",
      "source": [
        "The supplements.csv downloaded below contains vitamin information (in mg) for 20 different supplements I'm considering as I get ready for summer:\n",
        "* Read in the supplements.csv file\n",
        "* Fill all the na values using method='bfill' (HINT: put method='bfill' in the function call! Google it if you're confused)\n",
        "* Sort the DataFrame by my most important vitamin, vitamin b6, in descending order\n",
        "* Use .drop() to create a new df, subset_df, containing all the vitamins in the supplements file except vitamin_d\n",
        "* Create a boxplot of all columns in subset_df (hint - make sure to call plt.show() at the end!!)"
      ],
      "metadata": {
        "id": "Ei5ryprMXdnz"
      }
    },
    {
      "cell_type": "code",
      "source": [
        "!curl -o supplements.csv https://raw.githubusercontent.com/wingated/cs180_labs/main/supplements.csv"
      ],
      "metadata": {
        "id": "ZeuAC2MQXehH",
        "colab": {
          "base_uri": "https://localhost:8080/"
        },
        "outputId": "c7d9ea76-9164-4976-a349-48c7f10bb52c"
      },
      "execution_count": null,
      "outputs": [
        {
          "output_type": "stream",
          "name": "stdout",
          "text": [
            "  % Total    % Received % Xferd  Average Speed   Time    Time     Time  Current\n",
            "                                 Dload  Upload   Total   Spent    Left  Speed\n",
            "\r  0     0    0     0    0     0      0      0 --:--:-- --:--:-- --:--:--     0\r  0     0    0     0    0     0      0      0 --:--:-- --:--:-- --:--:--     0\r100   358  100   358    0     0   3196      0 --:--:-- --:--:-- --:--:--  3168\n"
          ]
        }
      ]
    },
    {
      "cell_type": "code",
      "source": [
        "import matplotlib.pyplot as plt\n",
        "#Enter your code in here for question #5\n",
        "sups = pd.read_csv('supplements.csv')\n",
        "sups = sups.bfill().sort_values('vitamin_b6', ascending=False).reset_index(drop=True)\n",
        "sups_noD = sups.drop(columns='vitamin_d')\n",
        "sups_noD.plot(kind='box')\n",
        "plt.show\n",
        "# print(sups_noD)"
      ],
      "metadata": {
        "id": "ANAkE7cmXvCl",
        "colab": {
          "base_uri": "https://localhost:8080/",
          "height": 630
        },
        "outputId": "a338e0a0-6224-4ca4-ff3e-746be9d86769"
      },
      "execution_count": null,
      "outputs": [
        {
          "output_type": "stream",
          "name": "stdout",
          "text": [
            "    vitamin_c  vitamin_e  vitamin_k  vitamin_b6\n",
            "0        77.0       23.0       23.0        10.0\n",
            "1        80.0       23.0       38.0        10.0\n",
            "2        71.0       22.0       30.0         9.0\n",
            "3        49.0       20.0       37.0         9.0\n",
            "4        59.0       20.0       32.0         9.0\n",
            "5        65.0       24.0       18.0         8.0\n",
            "6        69.0       24.0       38.0         8.0\n",
            "7        59.0       24.0       31.0         8.0\n",
            "8        80.0       23.0       30.0         7.0\n",
            "9        68.0       24.0       20.0         6.0\n",
            "10       65.0       21.0       25.0         6.0\n",
            "11       65.0       21.0       25.0         6.0\n",
            "12       51.0       20.0       31.0         5.0\n",
            "13       42.0       22.0       20.0         5.0\n",
            "14       59.0       23.0       30.0         3.0\n",
            "15       68.0       24.0       31.0         3.0\n",
            "16       69.0       24.0       37.0         1.0\n",
            "17       71.0       24.0       18.0         1.0\n",
            "18       60.0       22.0       32.0         0.0\n",
            "19       43.0       24.0       23.0         0.0\n"
          ]
        },
        {
          "output_type": "display_data",
          "data": {
            "text/plain": [
              "<Figure size 432x288 with 1 Axes>"
            ],
            "image/png": "[encoded data removed]"
          },
          "metadata": {
            "needs_background": "light"
          }
        }
      ]
    },
    {
      "cell_type": "markdown",
      "source": [
        "## Exercise 6\n",
        "Write something that you noticed in the supplements data. Feel free to poke around, plot some more things, and find something interesting!"
      ],
      "metadata": {
        "id": "EyNqaFPwX1xa"
      }
    },
    {
      "cell_type": "code",
      "source": [
        "# Exploratory Data Analysis\n",
        "sups.plot(kind='box')\n",
        "plt.show\n",
        "# I wondered why we wouldn't want to use the vitamin_d in the box plot displayed so I decided\n",
        "# to replot the data including the column. As I did so, I quickly realized why it is less effective.\n",
        "# While showing this plot is meaningful in its own way, it detracts from the other information and makes the\n",
        "# plot less meaninful than the first one if only you look at the second. "
      ],
      "metadata": {
        "id": "ojSLdw_OX5cW",
        "colab": {
          "base_uri": "https://localhost:8080/",
          "height": 283
        },
        "outputId": "457e2483-27de-4d02-bb09-745b1c40f188"
      },
      "execution_count": null,
      "outputs": [
        {
          "output_type": "execute_result",
          "data": {
            "text/plain": [
              "<function matplotlib.pyplot.show(*args, **kw)>"
            ]
          },
          "metadata": {},
          "execution_count": 49
        },
        {
          "output_type": "display_data",
          "data": {
            "text/plain": [
              "<Figure size 432x288 with 1 Axes>"
            ],
            "image/png": "[encoded data removed]"
          },
          "metadata": {
            "needs_background": "light"
          }
        }
      ]
    },
    {
      "cell_type": "markdown",
      "source": [
        "Enter something cool that you found out here."
      ],
      "metadata": {
        "id": "bC9o61ZdX9cZ"
      }
    }
  ]
}